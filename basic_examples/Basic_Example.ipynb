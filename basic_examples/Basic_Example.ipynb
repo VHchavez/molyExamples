{
 "cells": [
  {
   "cell_type": "code",
   "execution_count": null,
   "metadata": {},
   "outputs": [],
   "source": [
    "import moly"
   ]
  },
  {
   "cell_type": "markdown",
   "metadata": {},
   "source": [
    "## Visualize Molecules"
   ]
  },
  {
   "cell_type": "markdown",
   "metadata": {},
   "source": [
    "### From xyz file"
   ]
  },
  {
   "cell_type": "code",
   "execution_count": null,
   "metadata": {},
   "outputs": [],
   "source": [
    "water = moly.Molecule.from_file(\"water.xyz\")\n",
    "\n",
    "fig = moly.Figure()\n",
    "fig.add_molecule(\"water\", water)\n",
    "fig.show()"
   ]
  },
  {
   "cell_type": "markdown",
   "metadata": {},
   "source": [
    "### From data"
   ]
  },
  {
   "cell_type": "code",
   "execution_count": null,
   "metadata": {},
   "outputs": [],
   "source": [
    "water = \"\"\"\n",
    "0 1\n",
    "O -0.00   0.00   0.06\n",
    "H -0.00   0.75  -0.52\n",
    "H  0.00  -0.75  -0.52\n",
    "symmetry c1\n",
    "units angstrom\n",
    "\"\"\"\n",
    "\n",
    "fig = moly.Figure()\n",
    "fig.add_molecule(\"water\", moly.Molecule.from_data(water))\n",
    "fig.show()"
   ]
  },
  {
   "cell_type": "markdown",
   "metadata": {},
   "source": [
    "### From QCArchive"
   ]
  },
  {
   "cell_type": "code",
   "execution_count": null,
   "metadata": {},
   "outputs": [],
   "source": [
    "import qcportal as ptl\n",
    "client = ptl.FractalClient()\n",
    "\n",
    "ds = client.get_collection(\"ReactionDataset\", \"A21\")\n",
    "molecules = ds.get_molecules()\n",
    "water_dimer = molecules.loc['02_water-dimer', 'molecule'][0]\n",
    "\n",
    "fig = moly.Figure()\n",
    "fig.add_molecule(\"water_dimer\", water_dimer)\n",
    "fig.show()"
   ]
  },
  {
   "cell_type": "markdown",
   "metadata": {},
   "source": [
    "## Rendering Styles"
   ]
  },
  {
   "cell_type": "code",
   "execution_count": null,
   "metadata": {
    "scrolled": false
   },
   "outputs": [],
   "source": [
    "#Tubes\n",
    "\n",
    "fig = moly.Figure()\n",
    "fig.add_molecule(\"water_dimer\", water_dimer, style=\"tubes\")\n",
    "fig.show()"
   ]
  },
  {
   "cell_type": "code",
   "execution_count": null,
   "metadata": {},
   "outputs": [],
   "source": [
    "#Space filling\n",
    "\n",
    "fig = moly.Figure()\n",
    "fig.add_molecule(\"water_dimer\", water_dimer, style=\"spacefilling\")\n",
    "fig.show()"
   ]
  },
  {
   "cell_type": "code",
   "execution_count": null,
   "metadata": {},
   "outputs": [],
   "source": [
    "#Wireframe\n",
    "\n",
    "fig = moly.Figure()\n",
    "fig.add_molecule(\"water_dimer\", water_dimer, style=\"wireframe\")\n",
    "fig.show()"
   ]
  },
  {
   "cell_type": "markdown",
   "metadata": {},
   "source": [
    "## Figure Properties"
   ]
  },
  {
   "cell_type": "markdown",
   "metadata": {},
   "source": [
    "### Size. \n",
    "For quick visualization or exporting for publication. You can set your preferred size as a Figure argument. \n",
    "In order to download, just click on the camera icon on the upper right corner. The image will be saved with the desired resolution. "
   ]
  },
  {
   "cell_type": "code",
   "execution_count": null,
   "metadata": {
    "scrolled": false
   },
   "outputs": [],
   "source": [
    "#Small\n",
    "fig = moly.Figure(figsize=(300,300))\n",
    "fig.add_molecule(\"water\", moly.Molecule.from_file(\"water.xyz\"))\n",
    "fig.show()"
   ]
  },
  {
   "cell_type": "code",
   "execution_count": null,
   "metadata": {
    "scrolled": false
   },
   "outputs": [],
   "source": [
    "#Huge\n",
    "fig = moly.Figure(figsize=(1000,1000))\n",
    "fig.add_molecule(\"water\", moly.Molecule.from_file(\"water.xyz\"))\n",
    "fig.show()"
   ]
  },
  {
   "cell_type": "markdown",
   "metadata": {},
   "source": [
    "---"
   ]
  },
  {
   "cell_type": "markdown",
   "metadata": {},
   "source": [
    "## Cube Files"
   ]
  },
  {
   "cell_type": "code",
   "execution_count": null,
   "metadata": {},
   "outputs": [],
   "source": [
    "#Good color options = ['portland_r', balance_r, bluered_r, blues_r, rdbu, picnic_r, temps_r, spectral, jet_r]"
   ]
  },
  {
   "cell_type": "code",
   "execution_count": null,
   "metadata": {},
   "outputs": [],
   "source": [
    "fig = moly.Figure()\n",
    "fig.add_cube(\"water.cube\", iso=0.03, colorscale=\"rdbu\", opacity=0.2)\n",
    "fig.show()\n",
    "\n",
    "#Any colorscale from plotly can be used. "
   ]
  },
  {
   "cell_type": "code",
   "execution_count": null,
   "metadata": {},
   "outputs": [],
   "source": [
    "fig = moly.Figure()\n",
    "fig.add_cubes(directory='cubes', colorscale=\"portland\", iso=0.1)\n",
    "fig.show()"
   ]
  }
 ],
 "metadata": {
  "kernelspec": {
   "display_name": "Python [conda env:p4env]",
   "language": "python",
   "name": "conda-env-p4env-py"
  },
  "language_info": {
   "codemirror_mode": {
    "name": "ipython",
    "version": 3
   },
   "file_extension": ".py",
   "mimetype": "text/x-python",
   "name": "python",
   "nbconvert_exporter": "python",
   "pygments_lexer": "ipython3",
   "version": "3.7.3"
  },
  "varInspector": {
   "cols": {
    "lenName": 16,
    "lenType": 16,
    "lenVar": 40
   },
   "kernels_config": {
    "python": {
     "delete_cmd_postfix": "",
     "delete_cmd_prefix": "del ",
     "library": "var_list.py",
     "varRefreshCmd": "print(var_dic_list())"
    },
    "r": {
     "delete_cmd_postfix": ") ",
     "delete_cmd_prefix": "rm(",
     "library": "var_list.r",
     "varRefreshCmd": "cat(var_dic_list()) "
    }
   },
   "types_to_exclude": [
    "module",
    "function",
    "builtin_function_or_method",
    "instance",
    "_Feature"
   ],
   "window_display": false
  }
 },
 "nbformat": 4,
 "nbformat_minor": 4
}
